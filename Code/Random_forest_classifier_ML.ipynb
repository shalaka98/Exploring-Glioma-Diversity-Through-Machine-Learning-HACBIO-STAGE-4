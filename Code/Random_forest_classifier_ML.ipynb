{
 "cells": [
  {
   "cell_type": "markdown",
   "metadata": {},
   "source": [
    "<div class=\"alert alert-info\" style=\"background-color:#006a79; color:white; padding:0px 10px; border-radius:5px;\"><h2 style='margin:10px 5px'>Package and Data Import</h2>\n",
    "</div>"
   ]
  },
  {
   "cell_type": "code",
   "execution_count": 1,
   "metadata": {},
   "outputs": [],
   "source": [
    "# Import relevant packages\n",
    "import pandas as pd\n",
    "import numpy as np\n",
    "from sklearn.ensemble import RandomForestClassifier\n",
    "from sklearn.preprocessing import LabelEncoder\n",
    "from sklearn.model_selection import train_test_split\n",
    "from sklearn.feature_selection import VarianceThreshold\n",
    "from sklearn.metrics import accuracy_score, classification_report, confusion_matrix, roc_auc_score, roc_curve\n",
    "from sklearn.preprocessing import StandardScaler\n",
    "from sklearn.utils.class_weight import compute_class_weight\n",
    "import matplotlib.pyplot as plt\n",
    "import seaborn as sns\n",
    "from scipy.stats import randint"
   ]
  },
  {
   "cell_type": "code",
   "execution_count": 2,
   "metadata": {},
   "outputs": [
    {
     "data": {
      "text/html": [
       "<div>\n",
       "<style scoped>\n",
       "    .dataframe tbody tr th:only-of-type {\n",
       "        vertical-align: middle;\n",
       "    }\n",
       "\n",
       "    .dataframe tbody tr th {\n",
       "        vertical-align: top;\n",
       "    }\n",
       "\n",
       "    .dataframe thead th {\n",
       "        text-align: right;\n",
       "    }\n",
       "</style>\n",
       "<table border=\"1\" class=\"dataframe\">\n",
       "  <thead>\n",
       "    <tr style=\"text-align: right;\">\n",
       "      <th></th>\n",
       "      <th>Unnamed: 0</th>\n",
       "      <th>Mutant1</th>\n",
       "      <th>Mutant2</th>\n",
       "      <th>Mutant3</th>\n",
       "      <th>Mutant4</th>\n",
       "      <th>Mutant5</th>\n",
       "      <th>Mutant6</th>\n",
       "      <th>Mutant7</th>\n",
       "      <th>Mutant8</th>\n",
       "      <th>Mutant9</th>\n",
       "      <th>...</th>\n",
       "      <th>WT85</th>\n",
       "      <th>WT86</th>\n",
       "      <th>WT87</th>\n",
       "      <th>WT88</th>\n",
       "      <th>WT89</th>\n",
       "      <th>WT90</th>\n",
       "      <th>WT91</th>\n",
       "      <th>WT92</th>\n",
       "      <th>WT93</th>\n",
       "      <th>WT94</th>\n",
       "    </tr>\n",
       "  </thead>\n",
       "  <tbody>\n",
       "    <tr>\n",
       "      <th>0</th>\n",
       "      <td>ENSG00000000003</td>\n",
       "      <td>2723</td>\n",
       "      <td>3512</td>\n",
       "      <td>1789</td>\n",
       "      <td>3720</td>\n",
       "      <td>681</td>\n",
       "      <td>2278</td>\n",
       "      <td>2263</td>\n",
       "      <td>1562</td>\n",
       "      <td>2343</td>\n",
       "      <td>...</td>\n",
       "      <td>6470</td>\n",
       "      <td>1544</td>\n",
       "      <td>3953</td>\n",
       "      <td>2821</td>\n",
       "      <td>2169</td>\n",
       "      <td>2686</td>\n",
       "      <td>6984</td>\n",
       "      <td>1046</td>\n",
       "      <td>770</td>\n",
       "      <td>4941</td>\n",
       "    </tr>\n",
       "    <tr>\n",
       "      <th>1</th>\n",
       "      <td>ENSG00000000005</td>\n",
       "      <td>2</td>\n",
       "      <td>6</td>\n",
       "      <td>10</td>\n",
       "      <td>3</td>\n",
       "      <td>6</td>\n",
       "      <td>1</td>\n",
       "      <td>9</td>\n",
       "      <td>7</td>\n",
       "      <td>14</td>\n",
       "      <td>...</td>\n",
       "      <td>2</td>\n",
       "      <td>4</td>\n",
       "      <td>1</td>\n",
       "      <td>5</td>\n",
       "      <td>47</td>\n",
       "      <td>3</td>\n",
       "      <td>19</td>\n",
       "      <td>0</td>\n",
       "      <td>8</td>\n",
       "      <td>1</td>\n",
       "    </tr>\n",
       "    <tr>\n",
       "      <th>2</th>\n",
       "      <td>ENSG00000000419</td>\n",
       "      <td>917</td>\n",
       "      <td>819</td>\n",
       "      <td>837</td>\n",
       "      <td>1283</td>\n",
       "      <td>1114</td>\n",
       "      <td>949</td>\n",
       "      <td>1025</td>\n",
       "      <td>1755</td>\n",
       "      <td>1171</td>\n",
       "      <td>...</td>\n",
       "      <td>1901</td>\n",
       "      <td>976</td>\n",
       "      <td>1308</td>\n",
       "      <td>1169</td>\n",
       "      <td>663</td>\n",
       "      <td>1252</td>\n",
       "      <td>2047</td>\n",
       "      <td>662</td>\n",
       "      <td>1125</td>\n",
       "      <td>1233</td>\n",
       "    </tr>\n",
       "    <tr>\n",
       "      <th>3</th>\n",
       "      <td>ENSG00000000457</td>\n",
       "      <td>402</td>\n",
       "      <td>341</td>\n",
       "      <td>474</td>\n",
       "      <td>667</td>\n",
       "      <td>547</td>\n",
       "      <td>464</td>\n",
       "      <td>742</td>\n",
       "      <td>1002</td>\n",
       "      <td>492</td>\n",
       "      <td>...</td>\n",
       "      <td>792</td>\n",
       "      <td>485</td>\n",
       "      <td>1023</td>\n",
       "      <td>692</td>\n",
       "      <td>160</td>\n",
       "      <td>658</td>\n",
       "      <td>834</td>\n",
       "      <td>254</td>\n",
       "      <td>650</td>\n",
       "      <td>762</td>\n",
       "    </tr>\n",
       "    <tr>\n",
       "      <th>4</th>\n",
       "      <td>ENSG00000000460</td>\n",
       "      <td>164</td>\n",
       "      <td>79</td>\n",
       "      <td>298</td>\n",
       "      <td>182</td>\n",
       "      <td>120</td>\n",
       "      <td>129</td>\n",
       "      <td>219</td>\n",
       "      <td>222</td>\n",
       "      <td>260</td>\n",
       "      <td>...</td>\n",
       "      <td>515</td>\n",
       "      <td>88</td>\n",
       "      <td>546</td>\n",
       "      <td>197</td>\n",
       "      <td>56</td>\n",
       "      <td>477</td>\n",
       "      <td>534</td>\n",
       "      <td>73</td>\n",
       "      <td>109</td>\n",
       "      <td>378</td>\n",
       "    </tr>\n",
       "  </tbody>\n",
       "</table>\n",
       "<p>5 rows × 514 columns</p>\n",
       "</div>"
      ],
      "text/plain": [
       "        Unnamed: 0  Mutant1  Mutant2  Mutant3  Mutant4  Mutant5  Mutant6  \\\n",
       "0  ENSG00000000003     2723     3512     1789     3720      681     2278   \n",
       "1  ENSG00000000005        2        6       10        3        6        1   \n",
       "2  ENSG00000000419      917      819      837     1283     1114      949   \n",
       "3  ENSG00000000457      402      341      474      667      547      464   \n",
       "4  ENSG00000000460      164       79      298      182      120      129   \n",
       "\n",
       "   Mutant7  Mutant8  Mutant9  ...  WT85  WT86  WT87  WT88  WT89  WT90  WT91  \\\n",
       "0     2263     1562     2343  ...  6470  1544  3953  2821  2169  2686  6984   \n",
       "1        9        7       14  ...     2     4     1     5    47     3    19   \n",
       "2     1025     1755     1171  ...  1901   976  1308  1169   663  1252  2047   \n",
       "3      742     1002      492  ...   792   485  1023   692   160   658   834   \n",
       "4      219      222      260  ...   515    88   546   197    56   477   534   \n",
       "\n",
       "   WT92  WT93  WT94  \n",
       "0  1046   770  4941  \n",
       "1     0     8     1  \n",
       "2   662  1125  1233  \n",
       "3   254   650   762  \n",
       "4    73   109   378  \n",
       "\n",
       "[5 rows x 514 columns]"
      ]
     },
     "execution_count": 2,
     "metadata": {},
     "output_type": "execute_result"
    }
   ],
   "source": [
    "# Import dataset\n",
    "df = pd.read_csv(\"https://drive.google.com/uc?export=download&id=1zIn4Ltwkjc-aJT5mXMjZZDZR0ilNX3TV\")\n",
    "df.head()"
   ]
  },
  {
   "cell_type": "markdown",
   "metadata": {},
   "source": [
    "There are no missing values in the dataset"
   ]
  },
  {
   "cell_type": "code",
   "execution_count": 3,
   "metadata": {},
   "outputs": [
    {
     "name": "stdout",
     "output_type": "stream",
     "text": [
      "(34539, 514)\n"
     ]
    },
    {
     "data": {
      "text/plain": [
       "0    514\n",
       "dtype: int64"
      ]
     },
     "execution_count": 3,
     "metadata": {},
     "output_type": "execute_result"
    }
   ],
   "source": [
    "# Check shape of the datset.\n",
    "print(df.shape)\n",
    "\n",
    "# Check for null values\n",
    "nulls = pd.DataFrame(df.isnull().sum())\n",
    "nulls.value_counts(dropna=False)"
   ]
  },
  {
   "cell_type": "markdown",
   "metadata": {},
   "source": [
    "<div class=\"alert alert-info\" style=\"background-color:#006a79; color:white; padding:0px 10px; border-radius:5px;\"><h2 style='margin:10px 5px'>Data Preprocessing</h2>\n",
    "</div>"
   ]
  },
  {
   "cell_type": "code",
   "execution_count": 4,
   "metadata": {},
   "outputs": [],
   "source": [
    "# Reshape dataframe\n",
    "df_t = df.T\n",
    "df_t.columns = df_t.iloc[0]\n",
    "df_t['samples'] = df_t.index\n",
    "df_t = df_t.iloc[1:].reset_index(drop=True)"
   ]
  },
  {
   "cell_type": "code",
   "execution_count": 5,
   "metadata": {},
   "outputs": [
    {
     "data": {
      "text/html": [
       "<div>\n",
       "<style scoped>\n",
       "    .dataframe tbody tr th:only-of-type {\n",
       "        vertical-align: middle;\n",
       "    }\n",
       "\n",
       "    .dataframe tbody tr th {\n",
       "        vertical-align: top;\n",
       "    }\n",
       "\n",
       "    .dataframe thead th {\n",
       "        text-align: right;\n",
       "    }\n",
       "</style>\n",
       "<table border=\"1\" class=\"dataframe\">\n",
       "  <thead>\n",
       "    <tr style=\"text-align: right;\">\n",
       "      <th>Unnamed: 0</th>\n",
       "      <th>ENSG00000000003</th>\n",
       "      <th>ENSG00000000005</th>\n",
       "      <th>ENSG00000000419</th>\n",
       "      <th>ENSG00000000457</th>\n",
       "      <th>ENSG00000000460</th>\n",
       "      <th>ENSG00000000938</th>\n",
       "      <th>ENSG00000000971</th>\n",
       "      <th>ENSG00000001036</th>\n",
       "      <th>ENSG00000001084</th>\n",
       "      <th>ENSG00000001167</th>\n",
       "      <th>...</th>\n",
       "      <th>ENSG00000288637</th>\n",
       "      <th>ENSG00000288638</th>\n",
       "      <th>ENSG00000288648</th>\n",
       "      <th>ENSG00000288657</th>\n",
       "      <th>ENSG00000288658</th>\n",
       "      <th>ENSG00000288663</th>\n",
       "      <th>ENSG00000288670</th>\n",
       "      <th>ENSG00000288674</th>\n",
       "      <th>ENSG00000288675</th>\n",
       "      <th>samples</th>\n",
       "    </tr>\n",
       "  </thead>\n",
       "  <tbody>\n",
       "    <tr>\n",
       "      <th>0</th>\n",
       "      <td>2723</td>\n",
       "      <td>2</td>\n",
       "      <td>917</td>\n",
       "      <td>402</td>\n",
       "      <td>164</td>\n",
       "      <td>104</td>\n",
       "      <td>121</td>\n",
       "      <td>340</td>\n",
       "      <td>4399</td>\n",
       "      <td>829</td>\n",
       "      <td>...</td>\n",
       "      <td>1</td>\n",
       "      <td>0</td>\n",
       "      <td>46</td>\n",
       "      <td>14</td>\n",
       "      <td>15</td>\n",
       "      <td>32</td>\n",
       "      <td>569</td>\n",
       "      <td>7</td>\n",
       "      <td>55</td>\n",
       "      <td>Mutant</td>\n",
       "    </tr>\n",
       "    <tr>\n",
       "      <th>1</th>\n",
       "      <td>3512</td>\n",
       "      <td>6</td>\n",
       "      <td>819</td>\n",
       "      <td>341</td>\n",
       "      <td>79</td>\n",
       "      <td>256</td>\n",
       "      <td>92</td>\n",
       "      <td>1431</td>\n",
       "      <td>4642</td>\n",
       "      <td>809</td>\n",
       "      <td>...</td>\n",
       "      <td>2</td>\n",
       "      <td>0</td>\n",
       "      <td>114</td>\n",
       "      <td>0</td>\n",
       "      <td>14</td>\n",
       "      <td>16</td>\n",
       "      <td>570</td>\n",
       "      <td>4</td>\n",
       "      <td>28</td>\n",
       "      <td>Mutant</td>\n",
       "    </tr>\n",
       "    <tr>\n",
       "      <th>2</th>\n",
       "      <td>1789</td>\n",
       "      <td>10</td>\n",
       "      <td>837</td>\n",
       "      <td>474</td>\n",
       "      <td>298</td>\n",
       "      <td>698</td>\n",
       "      <td>242</td>\n",
       "      <td>586</td>\n",
       "      <td>3498</td>\n",
       "      <td>1190</td>\n",
       "      <td>...</td>\n",
       "      <td>3</td>\n",
       "      <td>0</td>\n",
       "      <td>7</td>\n",
       "      <td>0</td>\n",
       "      <td>16</td>\n",
       "      <td>86</td>\n",
       "      <td>626</td>\n",
       "      <td>3</td>\n",
       "      <td>44</td>\n",
       "      <td>Mutant</td>\n",
       "    </tr>\n",
       "    <tr>\n",
       "      <th>3</th>\n",
       "      <td>3720</td>\n",
       "      <td>3</td>\n",
       "      <td>1283</td>\n",
       "      <td>667</td>\n",
       "      <td>182</td>\n",
       "      <td>344</td>\n",
       "      <td>395</td>\n",
       "      <td>241</td>\n",
       "      <td>6019</td>\n",
       "      <td>2911</td>\n",
       "      <td>...</td>\n",
       "      <td>1</td>\n",
       "      <td>0</td>\n",
       "      <td>16</td>\n",
       "      <td>20</td>\n",
       "      <td>138</td>\n",
       "      <td>15</td>\n",
       "      <td>909</td>\n",
       "      <td>4</td>\n",
       "      <td>79</td>\n",
       "      <td>Mutant</td>\n",
       "    </tr>\n",
       "    <tr>\n",
       "      <th>4</th>\n",
       "      <td>681</td>\n",
       "      <td>6</td>\n",
       "      <td>1114</td>\n",
       "      <td>547</td>\n",
       "      <td>120</td>\n",
       "      <td>322</td>\n",
       "      <td>587</td>\n",
       "      <td>733</td>\n",
       "      <td>1629</td>\n",
       "      <td>1115</td>\n",
       "      <td>...</td>\n",
       "      <td>3</td>\n",
       "      <td>0</td>\n",
       "      <td>7</td>\n",
       "      <td>385</td>\n",
       "      <td>567</td>\n",
       "      <td>36</td>\n",
       "      <td>922</td>\n",
       "      <td>8</td>\n",
       "      <td>75</td>\n",
       "      <td>Mutant</td>\n",
       "    </tr>\n",
       "  </tbody>\n",
       "</table>\n",
       "<p>5 rows × 34540 columns</p>\n",
       "</div>"
      ],
      "text/plain": [
       "Unnamed: 0 ENSG00000000003 ENSG00000000005 ENSG00000000419 ENSG00000000457  \\\n",
       "0                     2723               2             917             402   \n",
       "1                     3512               6             819             341   \n",
       "2                     1789              10             837             474   \n",
       "3                     3720               3            1283             667   \n",
       "4                      681               6            1114             547   \n",
       "\n",
       "Unnamed: 0 ENSG00000000460 ENSG00000000938 ENSG00000000971 ENSG00000001036  \\\n",
       "0                      164             104             121             340   \n",
       "1                       79             256              92            1431   \n",
       "2                      298             698             242             586   \n",
       "3                      182             344             395             241   \n",
       "4                      120             322             587             733   \n",
       "\n",
       "Unnamed: 0 ENSG00000001084 ENSG00000001167  ... ENSG00000288637  \\\n",
       "0                     4399             829  ...               1   \n",
       "1                     4642             809  ...               2   \n",
       "2                     3498            1190  ...               3   \n",
       "3                     6019            2911  ...               1   \n",
       "4                     1629            1115  ...               3   \n",
       "\n",
       "Unnamed: 0 ENSG00000288638 ENSG00000288648 ENSG00000288657 ENSG00000288658  \\\n",
       "0                        0              46              14              15   \n",
       "1                        0             114               0              14   \n",
       "2                        0               7               0              16   \n",
       "3                        0              16              20             138   \n",
       "4                        0               7             385             567   \n",
       "\n",
       "Unnamed: 0 ENSG00000288663 ENSG00000288670 ENSG00000288674 ENSG00000288675  \\\n",
       "0                       32             569               7              55   \n",
       "1                       16             570               4              28   \n",
       "2                       86             626               3              44   \n",
       "3                       15             909               4              79   \n",
       "4                       36             922               8              75   \n",
       "\n",
       "Unnamed: 0 samples  \n",
       "0           Mutant  \n",
       "1           Mutant  \n",
       "2           Mutant  \n",
       "3           Mutant  \n",
       "4           Mutant  \n",
       "\n",
       "[5 rows x 34540 columns]"
      ]
     },
     "execution_count": 5,
     "metadata": {},
     "output_type": "execute_result"
    }
   ],
   "source": [
    "# Remove the numbers from the sample labels\n",
    "df_t['samples'] = df_t['samples'].str.replace(r'\\d+', '', regex=True)\n",
    "\n",
    "# View changes\n",
    "df_t.head()"
   ]
  },
  {
   "cell_type": "code",
   "execution_count": 6,
   "metadata": {},
   "outputs": [
    {
     "data": {
      "text/plain": [
       "Mutant    419\n",
       "WT         94\n",
       "Name: samples, dtype: int64"
      ]
     },
     "execution_count": 6,
     "metadata": {},
     "output_type": "execute_result"
    }
   ],
   "source": [
    "# Check label distribution\n",
    "# There is a serious class imbalance here.\n",
    "df_t[\"samples\"].value_counts(dropna=False)"
   ]
  },
  {
   "cell_type": "markdown",
   "metadata": {},
   "source": [
    "<div class=\"alert alert-info\" style=\"background-color:#006a79; color:white; padding:0px 10px; border-radius:5px;\"><h2 style='margin:10px 5px'>Feature Selection</h2>\n",
    "</div>"
   ]
  },
  {
   "cell_type": "code",
   "execution_count": 7,
   "metadata": {},
   "outputs": [],
   "source": [
    "# Feature selection\n",
    "selector = VarianceThreshold(threshold=10)\n",
    "df_selected = selector.fit_transform(df_t.drop(columns=\"samples\"))"
   ]
  },
  {
   "cell_type": "code",
   "execution_count": 8,
   "metadata": {},
   "outputs": [
    {
     "name": "stdout",
     "output_type": "stream",
     "text": [
      "feature space reduced by -18.32%\n"
     ]
    }
   ],
   "source": [
    "# Check the extent of feature reduction\n",
    "print(f\"feature space reduced by {((df_selected.shape[1] - df.shape[0]) / df.shape[0]) * 100:.2f}%\")"
   ]
  },
  {
   "cell_type": "markdown",
   "metadata": {},
   "source": [
    "<div class=\"alert alert-info\" style=\"background-color:#006a79; color:white; padding:0px 10px; border-radius:5px;\"><h2 style='margin:10px 5px'>Random Forest Classifier</h2>\n",
    "</div>"
   ]
  },
  {
   "cell_type": "markdown",
   "metadata": {},
   "source": [
    "### __Train/Test Split__"
   ]
  },
  {
   "cell_type": "code",
   "execution_count": 9,
   "metadata": {},
   "outputs": [],
   "source": [
    "# Split dataset into training and test subsets\n",
    "X = df_selected                                                                    # Get features\n",
    "y = df_t[\"samples\"]                                                                # Get labels\n",
    "X_train, X_test, y_train, y_test = train_test_split(X, y, test_size=0.2, \n",
    "                                                    random_state=42)               # Get training and test subets "
   ]
  },
  {
   "cell_type": "code",
   "execution_count": 10,
   "metadata": {},
   "outputs": [
    {
     "name": "stdout",
     "output_type": "stream",
     "text": [
      "Label distribution in training data: \n",
      "Mutant    335\n",
      "WT         75\n",
      "Name: samples, dtype: int64\n",
      "\n",
      "\n",
      "Label distribution in test data: \n",
      "Mutant    84\n",
      "WT        19\n",
      "Name: samples, dtype: int64\n"
     ]
    }
   ],
   "source": [
    "# Check label distribution in the training and test data\n",
    "print(f\"Label distribution in training data: \\n{y_train.value_counts()}\\n\\n\")\n",
    "print(f\"Label distribution in test data: \\n{y_test.value_counts()}\")"
   ]
  },
  {
   "cell_type": "code",
   "execution_count": 11,
   "metadata": {},
   "outputs": [],
   "source": [
    "\n",
    "\n",
    "# Encode class labels Mutant: 0, WT: 1\n",
    "le = LabelEncoder()\n",
    "y_train_enc = le.fit_transform(y_train)\n",
    "y_test_enc = le.fit_transform(y_test)\n"
   ]
  },
  {
   "cell_type": "markdown",
   "metadata": {},
   "source": [
    "### __Random Forrest Training__"
   ]
  },
  {
   "cell_type": "code",
   "execution_count": 12,
   "metadata": {},
   "outputs": [],
   "source": [
    "# Handle class imbalance with class weights\n",
    "class_weights = compute_class_weight('balanced', classes=np.unique(y), y=y)\n",
    "class_weights_dict = dict(enumerate(class_weights))"
   ]
  },
  {
   "cell_type": "code",
   "execution_count": 13,
   "metadata": {},
   "outputs": [],
   "source": [
    "# Initialize the classifier\n",
    "rf = RandomForestClassifier(random_state=42, class_weight=class_weights_dict, max_depth=10, min_samples_leaf=2, min_samples_split=2, n_estimators=200)"
   ]
  },
  {
   "cell_type": "code",
   "execution_count": 14,
   "metadata": {},
   "outputs": [
    {
     "data": {
      "text/plain": [
       "RandomForestClassifier(class_weight={0: 0.6121718377088305,\n",
       "                                     1: 2.728723404255319},\n",
       "                       max_depth=10, min_samples_leaf=2, n_estimators=200,\n",
       "                       random_state=42)"
      ]
     },
     "execution_count": 14,
     "metadata": {},
     "output_type": "execute_result"
    }
   ],
   "source": [
    "# Standardize the features\n",
    "scaler = StandardScaler()\n",
    "X_train_scaled = scaler.fit_transform(X_train)\n",
    "X_test_scaled = scaler.transform(X_test)\n",
    "\n",
    "# Train model\n",
    "rf.fit(X_train_scaled, y_train_enc)"
   ]
  },
  {
   "cell_type": "markdown",
   "metadata": {},
   "source": [
    "<div class=\"alert alert-info\" style=\"background-color:#006a79; color:white; padding:0px 10px; border-radius:5px;\"><h2 style='margin:10px 5px'>Model Evaluation</h2>\n",
    "</div>"
   ]
  },
  {
   "cell_type": "markdown",
   "metadata": {},
   "source": [
    "### __Accuracy Score and Classification Report__"
   ]
  },
  {
   "cell_type": "code",
   "execution_count": 15,
   "metadata": {},
   "outputs": [],
   "source": [
    "# Predictions on test set\n",
    "y_pred = rf.predict(X_test_scaled)"
   ]
  },
  {
   "cell_type": "code",
   "execution_count": 16,
   "metadata": {},
   "outputs": [
    {
     "name": "stdout",
     "output_type": "stream",
     "text": [
      "Accuracy: 0.9806\n"
     ]
    }
   ],
   "source": [
    "# Accuracy score\n",
    "accuracy = accuracy_score(y_test_enc, y_pred)\n",
    "print(f\"Accuracy: {accuracy:.4f}\")"
   ]
  },
  {
   "cell_type": "code",
   "execution_count": 17,
   "metadata": {},
   "outputs": [
    {
     "name": "stdout",
     "output_type": "stream",
     "text": [
      "Classification Report:\n",
      "               precision    recall  f1-score   support\n",
      "\n",
      "           0       0.98      1.00      0.99        84\n",
      "           1       1.00      0.89      0.94        19\n",
      "\n",
      "    accuracy                           0.98       103\n",
      "   macro avg       0.99      0.95      0.97       103\n",
      "weighted avg       0.98      0.98      0.98       103\n",
      "\n"
     ]
    }
   ],
   "source": [
    "# Classification report\n",
    "print(\"Classification Report:\\n\", classification_report(y_test_enc, y_pred))"
   ]
  },
  {
   "cell_type": "markdown",
   "metadata": {},
   "source": [
    "### __Confusion Matrix__"
   ]
  },
  {
   "cell_type": "code",
   "execution_count": 18,
   "metadata": {},
   "outputs": [
    {
     "data": {
      "image/png": "[encoded data removed]",
      "text/plain": [
       "<Figure size 640x480 with 2 Axes>"
      ]
     },
     "metadata": {},
     "output_type": "display_data"
    }
   ],
   "source": [
    "# Confusion matrix\n",
    "conf_matrix = confusion_matrix(y_test_enc, y_pred)\n",
    "sns.heatmap(conf_matrix, annot=True, fmt='d', cmap='Blues')\n",
    "plt.title('Confusion Matrix')\n",
    "plt.xlabel('Predicted')\n",
    "plt.ylabel('Actual')\n",
    "plt.show()"
   ]
  },
  {
   "cell_type": "markdown",
   "metadata": {},
   "source": [
    "### __Feature Importance__"
   ]
  },
  {
   "cell_type": "code",
   "execution_count": 19,
   "metadata": {},
   "outputs": [
    {
     "data": {
      "image/png": "[encoded data removed]",
      "text/plain": [
       "<Figure size 1000x600 with 1 Axes>"
      ]
     },
     "metadata": {},
     "output_type": "display_data"
    }
   ],
   "source": [
    "# Feature Importance\n",
    "feature_importances = rf.feature_importances_\n",
    "top_features_idx = np.argsort(feature_importances)[-10:]  # Top 10 most important features\n",
    "\n",
    "plt.figure(figsize=(10, 6))\n",
    "plt.barh(range(len(top_features_idx)), feature_importances[top_features_idx], align='center')\n",
    "plt.yticks(range(len(top_features_idx)), df_t.columns[top_features_idx])\n",
    "plt.title('Top 10 Important Genes')\n",
    "plt.xlabel('Importance')\n",
    "plt.ylabel('Genes')\n",
    "plt.show()"
   ]
  },
  {
   "cell_type": "markdown",
   "metadata": {},
   "source": [
    "### __ROC Curve__"
   ]
  },
  {
   "cell_type": "code",
   "execution_count": 20,
   "metadata": {},
   "outputs": [
    {
     "data": {
      "image/png": "[encoded data removed]",
      "text/plain": [
       "<Figure size 800x600 with 1 Axes>"
      ]
     },
     "metadata": {},
     "output_type": "display_data"
    }
   ],
   "source": [
    "# ROC Curve and AUC\n",
    "y_pred_proba = rf.predict_proba(X_test_scaled)[:, 1]\n",
    "fpr, tpr, thresholds = roc_curve(y_test_enc, y_pred_proba)\n",
    "roc_auc = roc_auc_score(y_test_enc, y_pred_proba)\n",
    "\n",
    "plt.figure(figsize=(8, 6))\n",
    "plt.plot(fpr, tpr, label=f'AUC = {roc_auc:.2f}')\n",
    "plt.plot([0, 1], [0, 1], 'k--', label='Random Classifier')\n",
    "plt.xlabel('False Positive Rate')\n",
    "plt.ylabel('True Positive Rate')\n",
    "plt.title('ROC Curve')\n",
    "plt.legend()\n",
    "plt.show()"
   ]
  },
  {
   "cell_type": "markdown",
   "metadata": {},
   "source": [
    "### __Precision-Recall Curve__\n",
    "\n",
    "Considering the class imbalance in the trainng and test data, a precision-recall curve might be more interpretable."
   ]
  },
  {
   "cell_type": "code",
   "execution_count": 21,
   "metadata": {},
   "outputs": [
    {
     "data": {
      "image/png": "[encoded data removed]",
      "text/plain": [
       "<Figure size 800x600 with 1 Axes>"
      ]
     },
     "metadata": {},
     "output_type": "display_data"
    },
    {
     "name": "stdout",
     "output_type": "stream",
     "text": [
      "Average Precision Score: 1.00\n"
     ]
    }
   ],
   "source": [
    "from sklearn.metrics import precision_recall_curve, average_precision_score\n",
    "import numpy as np\n",
    "\n",
    "# Predict probabilities\n",
    "y_pred_proba = rf.predict_proba(X_test_scaled)[:, 1]\n",
    "\n",
    "# Calculate precision, recall, and thresholds\n",
    "precision, recall, thresholds = precision_recall_curve(y_test_enc, y_pred_proba)\n",
    "\n",
    "# Calculate average precision score\n",
    "avg_precision = average_precision_score(y_test_enc, y_pred_proba)\n",
    "\n",
    "# Create the plot\n",
    "plt.figure(figsize=(8, 6))\n",
    "plt.step(recall, precision, where='post', label=f'AP = {avg_precision:.2f}')\n",
    "\n",
    "# Add the random classifier line\n",
    "no_skill = len(y_test[y_test == \"WT\"]) / len(y_test)\n",
    "plt.plot([0, 1], [no_skill, no_skill], linestyle='--', label='Random Classifier')\n",
    "\n",
    "# Customize the plot\n",
    "plt.xlabel('Recall')\n",
    "plt.ylabel('Precision')\n",
    "plt.title('Precision-Recall Curve')\n",
    "plt.legend()\n",
    "\n",
    "# Set axis limits\n",
    "plt.xlim([0.0, 1.0])\n",
    "plt.ylim([0.0, 1.05])\n",
    "\n",
    "plt.show()\n",
    "\n",
    "# Print the average precision score\n",
    "print(f'Average Precision Score: {avg_precision:.2f}')"
   ]
  }
 ],
 "metadata": {
  "kernelspec": {
   "display_name": "myenv",
   "language": "python",
   "name": "python3"
  },
  "language_info": {
   "codemirror_mode": {
    "name": "ipython",
    "version": 3
   },
   "file_extension": ".py",
   "mimetype": "text/x-python",
   "name": "python",
   "nbconvert_exporter": "python",
   "pygments_lexer": "ipython3",
   "version": "3.7.12"
  }
 },
 "nbformat": 4,
 "nbformat_minor": 2
}
